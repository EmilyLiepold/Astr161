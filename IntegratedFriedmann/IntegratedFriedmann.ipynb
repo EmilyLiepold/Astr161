{
 "cells": [
  {
   "cell_type": "markdown",
   "metadata": {},
   "source": [
    "# Integrating the Friedmann Equation\n"
   ]
  },
  {
   "cell_type": "markdown",
   "metadata": {},
   "source": [
    "Objective: To get a feel for how different choices of $\\Omega_{m,0}$, $\\Omega_{\\Lambda,0}$, $\\Omega_{r,0}$ affect the evolution and fate of a universe.  \n",
    "1. Let's recreate plot 6.3 from Ryden. This shows $a(t)$ from $t = 1e-10 H_0^{-1}$ to the present day. Do we get the correct scaling behaviors in the radiation, matter, and $\\Lambda$-dominated regimes?\n",
    "2. When do we switch from each regime to the next? How long ago did the shifts occur? At what redshift?\n",
    "3. What happens as we look forward in time? What choices of $\\Omega_{m,0}$, $\\Omega_{\\Lambda,0}$, and $\\Omega_{r,0}$ lead to big crunches or endless expansion?\n",
    "4. How would the evolution change if the equations of state were different?\n",
    "\n",
    "The code below can only handle expanding universes ($\\dot{a} \\ge 0$). What changes would you have to make to allow for compression?\n",
    "\n",
    "There's no definite endpoint to this activity, but instead to build some intuition of the consequences of different compositions."
   ]
  },
  {
   "cell_type": "markdown",
   "metadata": {},
   "source": [
    "First, let's load a couple useful packages"
   ]
  },
  {
   "cell_type": "code",
   "execution_count": 1,
   "metadata": {},
   "outputs": [],
   "source": [
    "import numpy as np\n",
    "from scipy.interpolate import interp1d"
   ]
  },
  {
   "cell_type": "markdown",
   "metadata": {},
   "source": [
    "Step 1: Compute $\\dot{a}(a,\\Omega_i)$"
   ]
  },
  {
   "cell_type": "code",
   "execution_count": 2,
   "metadata": {},
   "outputs": [],
   "source": [
    "def aDot(a,Omegas,Ws):\n",
    "    # Compute the sum over components\n",
    "    Val = 0.\n",
    "    for i in range(len(Omegas)):\n",
    "        Val += Omegas[i] * a**(-3 * (1 + Ws[i]))\n",
    "\n",
    "    ## Add the curvature term\n",
    "    \n",
    "    Omega0 = 0.\n",
    "    for Omega in Omegas:\n",
    "        Omega0 += Omega\n",
    "\n",
    "    Val += (1 - Omega0) / a**2\n",
    "    \n",
    "    ## Take a square root:\n",
    "    Val = (Val)**0.5\n",
    "    \n",
    "    ## Multiply by a\n",
    "    Val *= a\n",
    "    \n",
    "    return(Val)"
   ]
  },
  {
   "cell_type": "markdown",
   "metadata": {},
   "source": [
    "Let's do a simple numerical integral. We know the value at a particular time ($a(t_0) = 1$). A simple first-order integration should be sufficient for our task. We'll have to do a pair of integrations since our known point is in the middle of our integration range. We should use a variable timestep since the timescale ($H^{-1}$) is changing with time. For this timestep, let's choose $0.01 H^{-1}$. "
   ]
  },
  {
   "cell_type": "code",
   "execution_count": 3,
   "metadata": {},
   "outputs": [],
   "source": [
    "def integrateFriedmann(Omegas,Ws,nT=int(1e4)):\n",
    "\n",
    "    # Start lists of the various A's and T's that we'll find.\n",
    "    \n",
    "    ForwardAs = [1.]\n",
    "    ForwardTs = [0.]\n",
    "    BackwardAs = [1.]\n",
    "    BackwardTs = [0.]\n",
    "    \n",
    "    # Integrate forward\n",
    "    for i in range(nT):\n",
    "        # Find the derivative at the current a\n",
    "        currentaDot = aDot(ForwardAs[-1],Omegas,Ws)\n",
    "        \n",
    "        # Set the timestep\n",
    "        foredT = 0.01 * (ForwardAs[-1] / currentaDot)\n",
    "        \n",
    "        # Find the next a and t with a very simple first-order linear scheme\n",
    "        ForwardAs.append(ForwardAs[-1] + currentaDot * foredT)\n",
    "        ForwardTs.append(ForwardTs[-1] + foredT)\n",
    "\n",
    "    # Integrate backward\n",
    "    for i in range(nT):\n",
    "        # Find the derivative at the current a\n",
    "        currentaDot = aDot(BackwardAs[-1],Omegas,Ws)\n",
    "        \n",
    "        # Set the timestep\n",
    "        backdT = 0.01 * (BackwardAs[-1] / currentaDot)\n",
    "        \n",
    "        # Find the next a and t with a very simple first-order linear scheme\n",
    "        BackwardTs.append(BackwardTs[-1] - backdT)\n",
    "        BackwardAs.append(BackwardAs[-1] - currentaDot * backdT)\n",
    "\n",
    "    # Collect everything\n",
    "    Ts = []\n",
    "    As = []\n",
    "\n",
    "    for i in range(1,len(BackwardTs)+1):\n",
    "        Ts.append(BackwardTs[-i])\n",
    "        As.append(BackwardAs[-i])\n",
    "    for i in range(len(ForwardTs)):\n",
    "        Ts.append(ForwardTs[i])\n",
    "        As.append(ForwardAs[i])\n",
    "        \n",
    "    return(Ts,As)\n"
   ]
  },
  {
   "cell_type": "markdown",
   "metadata": {},
   "source": [
    "Let's also compute the three equality times, where the energy density due to pairs of components are equal."
   ]
  },
  {
   "cell_type": "code",
   "execution_count": 4,
   "metadata": {},
   "outputs": [],
   "source": [
    "def equalityAs(Omegas, Ws,Names):\n",
    "    # Create a list of the scale factors when pairs of components have equal density\n",
    "    \n",
    "    labels = []\n",
    "    As = []\n",
    "    \n",
    "    # Loop through the components\n",
    "    for i in range(len(Omegas)):\n",
    "        # Loop through the other components\n",
    "        for j in range(i+1,len(Omegas)):\n",
    "            \n",
    "            # Give the time a name\n",
    "            labels.append(Names[i] + ', ' + Names[j])\n",
    "            \n",
    "            # Compute the equality time\n",
    "            As.append(np.exp((np.log(Omegas[i] / Omegas[j])) / (-3 * (Ws[j] - Ws[i]))))\n",
    "            \n",
    "    \n",
    "    return(As,labels)"
   ]
  },
  {
   "cell_type": "markdown",
   "metadata": {},
   "source": [
    "Let's load a couple packages for plotting. "
   ]
  },
  {
   "cell_type": "code",
   "execution_count": 5,
   "metadata": {},
   "outputs": [],
   "source": [
    "%matplotlib notebook\n",
    "from ipywidgets import interact, interactive,  fixed\n",
    "from IPython.display import clear_output, display, HTML\n",
    "\n",
    "import matplotlib.pyplot as plt"
   ]
  },
  {
   "cell_type": "markdown",
   "metadata": {},
   "source": [
    "Finally, let's make a plot. This will be interactive with several variables:\n",
    "* fracL is a scale factor setting the amount of dark energy ($\\Lambda$, $w = -1$)\n",
    "* fracM is a scale factor setting the amount of matter ($w = 0$)\n",
    "* logfracR is a scale factor setting the amount of radiation ($w = 1/3$)\n",
    "\n",
    "These three variables set the relative amounts of the three components.\n",
    "* Omega0 sets the total amount of mass in the usual way ($\\Omega_0 = 1$ is a flat universe)\n",
    "The last two variables don't affect the integration at all, but just shift the two guide-lines up or down.\n",
    "* radScale shifts the $a \\propto t^{1/2}$ line up or down\n",
    "* matterScale shifts the $a \\propto t^{2/3}$ line up or down"
   ]
  },
  {
   "cell_type": "code",
   "execution_count": 6,
   "metadata": {},
   "outputs": [
    {
     "data": {
      "application/vnd.jupyter.widget-view+json": {
       "model_id": "fbe5e44a04284ad69d048b525e61b34f",
       "version_major": 2,
       "version_minor": 0
      },
      "text/plain": [
       "interactive(children=(FloatSlider(value=0.7, description='fracL', max=2.0999999999999996, min=-0.7), FloatSlid…"
      ]
     },
     "metadata": {},
     "output_type": "display_data"
    }
   ],
   "source": [
    "@interact(fracL=0.70, fracM=0.30, logfracR=-4,Omega0 = 1.0,radScale=0.15, matterScale = 0.80)\n",
    "def plotAT(fracL=0.70, fracM=0.30, logfracR=-4,Omega0 = 1.0,radScale=0.15, matterScale = 0.80):\n",
    "\n",
    "    # Find the scale factor for the densities\n",
    "    OmegaScale = Omega0 / (fracL + fracM + 10**logfracR)\n",
    "    \n",
    "    Omegas = []\n",
    "    Ws = []\n",
    "    Names = []\n",
    "    \n",
    "    # Only add dark energy and matter if they have nonzero fractions\n",
    "    if fracL != 0.:\n",
    "        Omegas.append(fracL * OmegaScale)\n",
    "        Ws.append(-1.)\n",
    "        Names.append(\"L\")\n",
    "    if fracM != 0.:\n",
    "        Omegas.append(fracM * OmegaScale)\n",
    "        Ws.append(0.)\n",
    "        Names.append(\"M\")\n",
    "        \n",
    "    Omegas.append(OmegaScale * 10**logfracR)\n",
    "    Ws.append(1./3.)\n",
    "    Names.append(\"R\")\n",
    "    \n",
    "    # Integrate the Friedmann equation for the choice of Omegas\n",
    "    Ts, As = integrateFriedmann(Omegas, Ws)\n",
    "    \n",
    "    # Construct an interpolating function for a(t)\n",
    "    aTfn = interp1d(As,Ts - np.min(Ts))\n",
    "    \n",
    "    # Create a list of the times when components have equal densities\n",
    "    EAs, Labels = equalityAs(Omegas, Ws, Names)\n",
    "\n",
    "\n",
    "    # Build the plot\n",
    "    fig, axes = plt.subplots()\n",
    "    \n",
    "    # Plot a(t). Use the first T value as t = 0\n",
    "    axes.plot(np.subtract(Ts,np.min(Ts)),As, label=\"$a(t)$\")\n",
    "    \n",
    "    # Plot the matter and radiation scaling lines\n",
    "    axes.plot(np.subtract(Ts,np.min(Ts)), radScale * np.subtract(Ts,np.min(Ts))**0.5, label=\"$\\propto t^{1/2}$\",alpha=0.5)\n",
    "    axes.plot(np.subtract(Ts,np.min(Ts)), matterScale * np.subtract(Ts,np.min(Ts))**(2./3.), label=\"$\\propto t^{2/3}$\",alpha=0.5)\n",
    "\n",
    "    # Plot horizontal and vertical lines at the a and t when components have equal densities\n",
    "    for i in range(len(EAs)):\n",
    "        axes.axhline(EAs[i],linestyle=':')\n",
    "        axes.axvline(aTfn(EAs[i]),linestyle=':')\n",
    "        \n",
    "    # Plot a horizontal and vertical line passing through a = 1, t = t0\n",
    "    axes.axhline(1.0,linestyle=':')\n",
    "    axes.axvline(1.0,linestyle=':')\n",
    "\n",
    "    # Set the plot scales\n",
    "    axes.set_yscale('log')\n",
    "    axes.set_xscale('log')\n",
    "    axes.set_ylim(1e-7,1e2)\n",
    "    axes.set_xlim(1e-10,1e1)\n",
    "    axes.set_xlabel(\"H_0 t\")\n",
    "    axes.set_ylabel(\"a(t)\")\n",
    "    axes.legend()\n"
   ]
  },
  {
   "cell_type": "code",
   "execution_count": null,
   "metadata": {},
   "outputs": [],
   "source": []
  }
 ],
 "metadata": {
  "kernelspec": {
   "display_name": "Python 3",
   "language": "python",
   "name": "python3"
  },
  "language_info": {
   "codemirror_mode": {
    "name": "ipython",
    "version": 3
   },
   "file_extension": ".py",
   "mimetype": "text/x-python",
   "name": "python",
   "nbconvert_exporter": "python",
   "pygments_lexer": "ipython3",
   "version": "3.7.2"
  }
 },
 "nbformat": 4,
 "nbformat_minor": 2
}
